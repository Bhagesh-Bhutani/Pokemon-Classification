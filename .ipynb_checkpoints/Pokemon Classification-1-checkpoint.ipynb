{
 "cells": [
  {
   "cell_type": "code",
   "execution_count": 1,
   "metadata": {},
   "outputs": [],
   "source": [
    "import numpy as np\n",
    "import pandas as pd\n",
    "import matplotlib.pyplot as plt"
   ]
  },
  {
   "cell_type": "code",
   "execution_count": 2,
   "metadata": {},
   "outputs": [
    {
     "name": "stderr",
     "output_type": "stream",
     "text": [
      "Using TensorFlow backend.\n"
     ]
    }
   ],
   "source": [
    "from keras.layers import *\n",
    "from keras.models import Sequential"
   ]
  },
  {
   "cell_type": "code",
   "execution_count": 3,
   "metadata": {},
   "outputs": [],
   "source": [
    "X=pd.read_csv(\"train.csv\")"
   ]
  },
  {
   "cell_type": "code",
   "execution_count": 4,
   "metadata": {},
   "outputs": [
    {
     "data": {
      "text/html": [
       "<div>\n",
       "<style scoped>\n",
       "    .dataframe tbody tr th:only-of-type {\n",
       "        vertical-align: middle;\n",
       "    }\n",
       "\n",
       "    .dataframe tbody tr th {\n",
       "        vertical-align: top;\n",
       "    }\n",
       "\n",
       "    .dataframe thead th {\n",
       "        text-align: right;\n",
       "    }\n",
       "</style>\n",
       "<table border=\"1\" class=\"dataframe\">\n",
       "  <thead>\n",
       "    <tr style=\"text-align: right;\">\n",
       "      <th></th>\n",
       "      <th>ImageId</th>\n",
       "      <th>NameOfPokemon</th>\n",
       "    </tr>\n",
       "  </thead>\n",
       "  <tbody>\n",
       "    <tr>\n",
       "      <td>0</td>\n",
       "      <td>296.jpg</td>\n",
       "      <td>Pikachu</td>\n",
       "    </tr>\n",
       "    <tr>\n",
       "      <td>1</td>\n",
       "      <td>297.jpg</td>\n",
       "      <td>Pikachu</td>\n",
       "    </tr>\n",
       "    <tr>\n",
       "      <td>2</td>\n",
       "      <td>298.jpg</td>\n",
       "      <td>Pikachu</td>\n",
       "    </tr>\n",
       "    <tr>\n",
       "      <td>3</td>\n",
       "      <td>299.jpg</td>\n",
       "      <td>Pikachu</td>\n",
       "    </tr>\n",
       "    <tr>\n",
       "      <td>4</td>\n",
       "      <td>300.jpg</td>\n",
       "      <td>Pikachu</td>\n",
       "    </tr>\n",
       "    <tr>\n",
       "      <td>...</td>\n",
       "      <td>...</td>\n",
       "      <td>...</td>\n",
       "    </tr>\n",
       "    <tr>\n",
       "      <td>299</td>\n",
       "      <td>616.jpg</td>\n",
       "      <td>Charmander</td>\n",
       "    </tr>\n",
       "    <tr>\n",
       "      <td>300</td>\n",
       "      <td>617.jpg</td>\n",
       "      <td>Charmander</td>\n",
       "    </tr>\n",
       "    <tr>\n",
       "      <td>301</td>\n",
       "      <td>618.jpg</td>\n",
       "      <td>Charmander</td>\n",
       "    </tr>\n",
       "    <tr>\n",
       "      <td>302</td>\n",
       "      <td>619.jpg</td>\n",
       "      <td>Charmander</td>\n",
       "    </tr>\n",
       "    <tr>\n",
       "      <td>303</td>\n",
       "      <td>620.jpg</td>\n",
       "      <td>Charmander</td>\n",
       "    </tr>\n",
       "  </tbody>\n",
       "</table>\n",
       "<p>304 rows × 2 columns</p>\n",
       "</div>"
      ],
      "text/plain": [
       "     ImageId NameOfPokemon\n",
       "0    296.jpg       Pikachu\n",
       "1    297.jpg       Pikachu\n",
       "2    298.jpg       Pikachu\n",
       "3    299.jpg       Pikachu\n",
       "4    300.jpg       Pikachu\n",
       "..       ...           ...\n",
       "299  616.jpg    Charmander\n",
       "300  617.jpg    Charmander\n",
       "301  618.jpg    Charmander\n",
       "302  619.jpg    Charmander\n",
       "303  620.jpg    Charmander\n",
       "\n",
       "[304 rows x 2 columns]"
      ]
     },
     "execution_count": 4,
     "metadata": {},
     "output_type": "execute_result"
    }
   ],
   "source": [
    "X"
   ]
  },
  {
   "cell_type": "code",
   "execution_count": 15,
   "metadata": {},
   "outputs": [
    {
     "data": {
      "text/plain": [
       "array(['296.jpg', '297.jpg', '298.jpg', '299.jpg', '300.jpg', '301.jpg',\n",
       "       '302.jpg', '303.jpg', '304.jpg', '305.jpg', '306.jpg', '307.jpg',\n",
       "       '308.jpg', '309.jpg', '310.jpg', '311.jpg', '312.jpg', '313.jpg',\n",
       "       '314.jpg', '315.jpg', '316.jpg', '317.jpg', '318.jpg', '319.jpg',\n",
       "       '320.jpg', '321.jpg', '322.jpg', '323.jpg', '324.jpg', '325.jpg',\n",
       "       '326.jpg', '327.jpg', '328.jpg', '329.jpg', '330.jpg', '331.jpg',\n",
       "       '332.jpg', '333.jpg', '334.jpg', '335.jpg', '336.jpg', '337.jpg',\n",
       "       '338.jpg', '339.jpg', '340.jpg', '341.jpg', '342.jpg', '343.jpg',\n",
       "       '344.jpg', '345.jpg', '346.jpg', '347.jpg', '348.jpg', '349.jpg',\n",
       "       '350.jpg', '351.jpg', '352.jpg', '353.jpg', '354.jpg', '355.jpg',\n",
       "       '356.jpg', '357.jpg', '358.jpg', '359.jpg', '360.jpg', '361.jpg',\n",
       "       '362.jpg', '363.jpg', '364.jpg', '365.jpg', '366.jpg', '367.jpg',\n",
       "       '368.jpg', '369.jpg', '370.jpg', '371.jpg', '372.jpg', '373.jpg',\n",
       "       '374.jpg', '375.jpg', '376.jpg', '377.jpg', '378.jpg', '379.jpg',\n",
       "       '380.jpg', '381.jpg', '382.jpg', '383.jpg', '384.jpg', '385.jpg',\n",
       "       '386.jpg', '387.jpg', '388.jpg', '389.jpg', '390.jpg', '391.jpg',\n",
       "       '392.jpg', '393.jpg', '394.jpg', '395.jpg', '396.jpg', '397.jpg',\n",
       "       '398.jpg', '399.jpg', '400.jpg', '401.jpg', '402.jpg', '403.jpg',\n",
       "       '404.jpg', '405.jpg', '406.jpg', '407.jpg', '408.jpg', '409.jpg',\n",
       "       '410.jpg', '411.jpg', '412.jpg', '413.jpg', '414.jpg', '415.jpg',\n",
       "       '416.jpg', '417.jpg', '418.jpg', '419.jpg', '420.jpg', '421.jpg',\n",
       "       '422.jpg', '423.jpg', '424.jpg', '425.jpg', '426.jpg', '427.jpg',\n",
       "       '428.jpg', '429.jpg', '430.jpg', '431.jpg', '432.jpg', '433.jpg',\n",
       "       '434.jpg', '435.jpg', '436.jpg', '437.jpg', '438.jpg', '439.jpg',\n",
       "       '440.jpg', '441.jpg', '442.jpg', '443.jpg', '444.jpg', '445.jpg',\n",
       "       '446.jpg', '447.jpg', '448.jpg', '449.jpg', '450.jpg', '451.jpg',\n",
       "       '452.jpg', '453.jpg', '454.jpg', '455.jpg', '456.jpg', '457.jpg',\n",
       "       '458.jpg', '459.jpg', '460.jpg', '461.jpg', '462.jpg', '463.jpg',\n",
       "       '464.jpg', '465.jpg', '466.jpg', '467.jpg', '468.jpg', '469.jpg',\n",
       "       '470.jpg', '471.jpg', '472.jpg', '473.jpg', '474.jpg', '475.jpg',\n",
       "       '476.jpg', '477.jpg', '478.jpg', '479.jpg', '480.jpg', '481.jpg',\n",
       "       '482.jpg', '483.jpg', '484.jpg', '485.jpg', '486.jpg', '487.jpg',\n",
       "       '488.jpg', '489.jpg', '490.jpg', '491.jpg', '492.jpg', '493.jpg',\n",
       "       '494.jpg', '495.jpg', '496.jpg', '497.jpg', '498.jpg', '520.jpg',\n",
       "       '521.jpg', '522.jpg', '523.jpg', '524.jpg', '525.jpg', '526.jpg',\n",
       "       '527.jpg', '528.jpg', '529.jpg', '530.jpg', '531.jpg', '532.jpg',\n",
       "       '533.jpg', '534.jpg', '535.jpg', '536.jpg', '537.jpg', '538.jpg',\n",
       "       '539.jpg', '540.jpg', '541.jpg', '542.jpg', '543.jpg', '544.jpg',\n",
       "       '545.jpg', '546.jpg', '547.jpg', '548.jpg', '549.jpg', '550.jpg',\n",
       "       '551.jpg', '552.jpg', '553.jpg', '554.jpg', '555.jpg', '556.jpg',\n",
       "       '557.jpg', '558.jpg', '559.jpg', '560.jpg', '561.jpg', '562.jpg',\n",
       "       '563.jpg', '564.jpg', '565.jpg', '566.jpg', '567.jpg', '568.jpg',\n",
       "       '569.jpg', '570.jpg', '571.jpg', '572.jpg', '573.jpg', '574.jpg',\n",
       "       '575.jpg', '576.jpg', '577.jpg', '578.jpg', '579.jpg', '580.jpg',\n",
       "       '581.jpg', '582.jpg', '583.jpg', '584.jpg', '585.jpg', '586.jpg',\n",
       "       '587.jpg', '588.jpg', '589.jpg', '590.jpg', '591.jpg', '592.jpg',\n",
       "       '593.jpg', '594.jpg', '595.jpg', '596.jpg', '597.jpg', '598.jpg',\n",
       "       '599.jpg', '600.jpg', '601.jpg', '602.jpg', '603.jpg', '604.jpg',\n",
       "       '605.jpg', '606.jpg', '607.jpg', '608.jpg', '609.jpg', '610.jpg',\n",
       "       '611.jpg', '612.jpg', '613.jpg', '614.jpg', '615.jpg', '616.jpg',\n",
       "       '617.jpg', '618.jpg', '619.jpg', '620.jpg'], dtype=object)"
      ]
     },
     "execution_count": 15,
     "metadata": {},
     "output_type": "execute_result"
    }
   ],
   "source": [
    "X[\"ImageId\"].values"
   ]
  },
  {
   "cell_type": "code",
   "execution_count": 6,
   "metadata": {},
   "outputs": [],
   "source": [
    "import os,shutil"
   ]
  },
  {
   "cell_type": "code",
   "execution_count": 27,
   "metadata": {},
   "outputs": [],
   "source": [
    "if not os.path.isdir(\"val_images\"):\n",
    "    os.mkdir(\"val_images\")\n",
    "classes=[\"Pikachu\",\"Bulbasaur\",\"Charmander\"]"
   ]
  },
  {
   "cell_type": "code",
   "execution_count": 29,
   "metadata": {},
   "outputs": [],
   "source": [
    "for c in classes:\n",
    "    p=os.path.join(\"val_images\",c)\n",
    "    if not os.path.isdir(p):\n",
    "        os.mkdir(p)"
   ]
  },
  {
   "cell_type": "code",
   "execution_count": 30,
   "metadata": {},
   "outputs": [],
   "source": [
    "SPLIT=0.8\n",
    "for f in os.listdir(\"Images\"):\n",
    "    path=\"Images/\"+f\n",
    "    imgs=os.listdir(path)\n",
    "    \n",
    "    split_size=int(SPLIT*len(imgs))\n",
    "    files_to_move=imgs[split_size:]\n",
    "    \n",
    "    for img_f in files_to_move:\n",
    "        src=os.path.join(path,img_f)\n",
    "        dest=os.path.join(\"val_images/\"+f)\n",
    "        shutil.move(src,dest)"
   ]
  },
  {
   "cell_type": "code",
   "execution_count": 31,
   "metadata": {},
   "outputs": [
    {
     "name": "stdout",
     "output_type": "stream",
     "text": [
      "Images/Bulbasaur 80\n",
      "Images/Charmander 81\n",
      "Images/Pikachu 80\n",
      "\n",
      "val_images/Bulbasaur 21\n",
      "val_images/Charmander 21\n",
      "val_images/Pikachu 21\n"
     ]
    }
   ],
   "source": [
    "for dirc in os.listdir(\"Images/\"):\n",
    "    p = \"Images/\" + dirc\n",
    "    imgs = os.listdir(p)\n",
    "    print(p , len(imgs))\n",
    "print()\n",
    "for dirc in os.listdir(\"val_images/\"):\n",
    "    p = \"val_images/\" + dirc\n",
    "    imgs = os.listdir(p)\n",
    "    print(p , len(imgs))"
   ]
  },
  {
   "cell_type": "code",
   "execution_count": 45,
   "metadata": {},
   "outputs": [
    {
     "name": "stdout",
     "output_type": "stream",
     "text": [
      "Model: \"sequential_3\"\n",
      "_________________________________________________________________\n",
      "Layer (type)                 Output Shape              Param #   \n",
      "=================================================================\n",
      "conv2d_4 (Conv2D)            (None, 222, 222, 32)      896       \n",
      "_________________________________________________________________\n",
      "max_pooling2d_4 (MaxPooling2 (None, 111, 111, 32)      0         \n",
      "_________________________________________________________________\n",
      "dropout_5 (Dropout)          (None, 111, 111, 32)      0         \n",
      "_________________________________________________________________\n",
      "conv2d_5 (Conv2D)            (None, 109, 109, 64)      18496     \n",
      "_________________________________________________________________\n",
      "max_pooling2d_5 (MaxPooling2 (None, 54, 54, 64)        0         \n",
      "_________________________________________________________________\n",
      "dropout_6 (Dropout)          (None, 54, 54, 64)        0         \n",
      "_________________________________________________________________\n",
      "conv2d_6 (Conv2D)            (None, 52, 52, 128)       73856     \n",
      "_________________________________________________________________\n",
      "max_pooling2d_6 (MaxPooling2 (None, 26, 26, 128)       0         \n",
      "_________________________________________________________________\n",
      "dropout_7 (Dropout)          (None, 26, 26, 128)       0         \n",
      "_________________________________________________________________\n",
      "flatten_2 (Flatten)          (None, 86528)             0         \n",
      "_________________________________________________________________\n",
      "dense_3 (Dense)              (None, 64)                5537856   \n",
      "_________________________________________________________________\n",
      "dropout_8 (Dropout)          (None, 64)                0         \n",
      "_________________________________________________________________\n",
      "dense_4 (Dense)              (None, 3)                 195       \n",
      "=================================================================\n",
      "Total params: 5,631,299\n",
      "Trainable params: 5,631,299\n",
      "Non-trainable params: 0\n",
      "_________________________________________________________________\n"
     ]
    }
   ],
   "source": [
    "model=Sequential()\n",
    "\n",
    "model.add(Conv2D(32,(3,3),activation='relu',input_shape=(224,224,3)))\n",
    "model.add(MaxPool2D((2,2)))\n",
    "model.add(Dropout(0.3))\n",
    "\n",
    "model.add(Conv2D(64,(3,3),activation='relu'))\n",
    "model.add(MaxPool2D((2,2)))\n",
    "model.add(Dropout(0.3))\n",
    "\n",
    "model.add(Conv2D(128,(3,3),activation='relu'))\n",
    "model.add(MaxPool2D((2,2)))\n",
    "model.add(Dropout(0.3))\n",
    "\n",
    "model.add(Flatten())\n",
    "model.add(Dense(64,activation='relu'))\n",
    "model.add(Dropout(0.3))\n",
    "model.add(Dense(3,activation='softmax'))\n",
    "\n",
    "model.summary()"
   ]
  },
  {
   "cell_type": "code",
   "execution_count": 47,
   "metadata": {},
   "outputs": [],
   "source": [
    "model.compile(optimizer=\"adam\", loss=\"categorical_crossentropy\", metrics=[\"accuracy\"])"
   ]
  },
  {
   "cell_type": "code",
   "execution_count": 35,
   "metadata": {},
   "outputs": [],
   "source": [
    "from keras.preprocessing import image"
   ]
  },
  {
   "cell_type": "code",
   "execution_count": 36,
   "metadata": {},
   "outputs": [],
   "source": [
    "train_gen=image.ImageDataGenerator(rescale=1.0/255.0,\n",
    "                                  shear_range=0.2,\n",
    "                                    zoom_range=0.2,\n",
    "                                    vertical_flip=True,\n",
    "                                    width_shift_range=0.2,\n",
    "                                    horizontal_flip=True)\n",
    "\n",
    "val_gen=image.ImageDataGenerator(rescale=1.0/255.0)"
   ]
  },
  {
   "cell_type": "code",
   "execution_count": 37,
   "metadata": {},
   "outputs": [
    {
     "name": "stdout",
     "output_type": "stream",
     "text": [
      "Found 241 images belonging to 3 classes.\n"
     ]
    }
   ],
   "source": [
    "train_generator=train_gen.flow_from_directory(\"Images/\",\n",
    "                                             target_size=(224,224),\n",
    "                                             batch_size=8,\n",
    "                                             class_mode='categorical',\n",
    "                                             shuffle=True)"
   ]
  },
  {
   "cell_type": "code",
   "execution_count": 38,
   "metadata": {},
   "outputs": [
    {
     "name": "stdout",
     "output_type": "stream",
     "text": [
      "Found 63 images belonging to 3 classes.\n"
     ]
    }
   ],
   "source": [
    "val_generator=train_gen.flow_from_directory(\"val_images/\",\n",
    "                                             target_size=(224,224),\n",
    "                                             batch_size=8,\n",
    "                                             class_mode='categorical',\n",
    "                                             shuffle=True)"
   ]
  },
  {
   "cell_type": "code",
   "execution_count": 39,
   "metadata": {},
   "outputs": [],
   "source": [
    "\n",
    "x, y = train_generator.next()\n"
   ]
  },
  {
   "cell_type": "code",
   "execution_count": 40,
   "metadata": {},
   "outputs": [
    {
     "data": {
      "text/plain": [
       "(8, 224, 224, 3)"
      ]
     },
     "execution_count": 40,
     "metadata": {},
     "output_type": "execute_result"
    }
   ],
   "source": [
    "x.shape"
   ]
  },
  {
   "cell_type": "code",
   "execution_count": 41,
   "metadata": {},
   "outputs": [
    {
     "data": {
      "text/plain": [
       "(8, 3)"
      ]
     },
     "execution_count": 41,
     "metadata": {},
     "output_type": "execute_result"
    }
   ],
   "source": [
    "y.shape"
   ]
  },
  {
   "cell_type": "code",
   "execution_count": 42,
   "metadata": {},
   "outputs": [],
   "source": [
    "hist=model.fit_generator?"
   ]
  },
  {
   "cell_type": "code",
   "execution_count": 48,
   "metadata": {},
   "outputs": [
    {
     "name": "stdout",
     "output_type": "stream",
     "text": [
      "Epoch 1/10\n",
      "12/38 [========>.....................] - ETA: 21s - loss: 4.0153 - accuracy: 0.3146"
     ]
    },
    {
     "name": "stderr",
     "output_type": "stream",
     "text": [
      "c:\\users\\bhagesh\\appdata\\local\\programs\\python\\python37\\lib\\site-packages\\PIL\\Image.py:989: UserWarning: Palette images with Transparency expressed in bytes should be converted to RGBA images\n",
      "  \"Palette images with Transparency expressed in bytes should be \"\n"
     ]
    },
    {
     "name": "stdout",
     "output_type": "stream",
     "text": [
      "38/38 [==============================] - 34s 886ms/step - loss: 1.9845 - accuracy: 0.4007 - val_loss: 1.1934 - val_accuracy: 0.3651\n",
      "Epoch 2/10\n",
      "38/38 [==============================] - 32s 846ms/step - loss: 0.6815 - accuracy: 0.7241 - val_loss: 0.7577 - val_accuracy: 0.7460\n",
      "Epoch 3/10\n",
      "38/38 [==============================] - 32s 852ms/step - loss: 0.3931 - accuracy: 0.8586 - val_loss: 1.0645 - val_accuracy: 0.6984\n",
      "Epoch 4/10\n",
      "38/38 [==============================] - 32s 847ms/step - loss: 0.2839 - accuracy: 0.8923 - val_loss: 0.9321 - val_accuracy: 0.8730\n",
      "Epoch 5/10\n",
      "38/38 [==============================] - 33s 874ms/step - loss: 0.2429 - accuracy: 0.9125 - val_loss: 1.7225 - val_accuracy: 0.8889\n",
      "Epoch 6/10\n",
      "38/38 [==============================] - 32s 836ms/step - loss: 0.1890 - accuracy: 0.9448 - val_loss: 0.3975 - val_accuracy: 0.8254\n",
      "Epoch 7/10\n",
      "38/38 [==============================] - 32s 855ms/step - loss: 0.1141 - accuracy: 0.9697 - val_loss: 1.6599 - val_accuracy: 0.9206\n",
      "Epoch 8/10\n",
      "38/38 [==============================] - 32s 833ms/step - loss: 0.1904 - accuracy: 0.9360 - val_loss: 0.2354 - val_accuracy: 0.8730\n",
      "Epoch 9/10\n",
      "38/38 [==============================] - 33s 867ms/step - loss: 0.1674 - accuracy: 0.9596 - val_loss: 0.0543 - val_accuracy: 0.8730\n",
      "Epoch 10/10\n",
      "38/38 [==============================] - 31s 807ms/step - loss: 0.0963 - accuracy: 0.9697 - val_loss: 0.0756 - val_accuracy: 0.8889\n"
     ]
    }
   ],
   "source": [
    "hist=model.fit_generator(train_generator,\n",
    "                        steps_per_epoch=38,\n",
    "                        epochs=10,\n",
    "                        validation_data=val_generator,\n",
    "                        validation_steps=8)"
   ]
  },
  {
   "cell_type": "code",
   "execution_count": 54,
   "metadata": {},
   "outputs": [
    {
     "data": {
      "image/png": "[encoded data removed]",
      "text/plain": [
       "<Figure size 432x288 with 1 Axes>"
      ]
     },
     "metadata": {
      "needs_background": "light"
     },
     "output_type": "display_data"
    }
   ],
   "source": [
    "plt.plot(hist.history['accuracy'],label=\"acc\")\n",
    "plt.plot(hist.history['val_accuracy'],label=\"val acc\")\n",
    "plt.legend()\n",
    "plt.show()"
   ]
  },
  {
   "cell_type": "code",
   "execution_count": 53,
   "metadata": {},
   "outputs": [
    {
     "data": {
      "image/png": "[encoded data removed]",
      "text/plain": [
       "<Figure size 432x288 with 1 Axes>"
      ]
     },
     "metadata": {
      "needs_background": "light"
     },
     "output_type": "display_data"
    }
   ],
   "source": [
    "\n",
    "plt.plot(hist.history['loss'],label=\"loss\")\n",
    "plt.plot(hist.history['val_loss'],label=\"val loss\")\n",
    "plt.legend()\n",
    "plt.show()"
   ]
  },
  {
   "cell_type": "code",
   "execution_count": 56,
   "metadata": {},
   "outputs": [
    {
     "data": {
      "text/plain": [
       "[1.020305871963501, 0.8730158805847168]"
      ]
     },
     "execution_count": 56,
     "metadata": {},
     "output_type": "execute_result"
    }
   ],
   "source": [
    "\n",
    "model.evaluate_generator(val_generator, steps=8)"
   ]
  },
  {
   "cell_type": "code",
   "execution_count": 57,
   "metadata": {},
   "outputs": [
    {
     "name": "stderr",
     "output_type": "stream",
     "text": [
      "c:\\users\\bhagesh\\appdata\\local\\programs\\python\\python37\\lib\\site-packages\\PIL\\Image.py:989: UserWarning: Palette images with Transparency expressed in bytes should be converted to RGBA images\n",
      "  \"Palette images with Transparency expressed in bytes should be \"\n"
     ]
    },
    {
     "data": {
      "text/plain": [
       "[0.014257099479436874, 0.9730639457702637]"
      ]
     },
     "execution_count": 57,
     "metadata": {},
     "output_type": "execute_result"
    }
   ],
   "source": [
    "model.evaluate_generator(train_generator, steps=38)"
   ]
  },
  {
   "cell_type": "code",
   "execution_count": 58,
   "metadata": {},
   "outputs": [],
   "source": [
    "X_test=pd.read_csv(\"test.csv\")"
   ]
  },
  {
   "cell_type": "code",
   "execution_count": 59,
   "metadata": {},
   "outputs": [
    {
     "data": {
      "text/html": [
       "<div>\n",
       "<style scoped>\n",
       "    .dataframe tbody tr th:only-of-type {\n",
       "        vertical-align: middle;\n",
       "    }\n",
       "\n",
       "    .dataframe tbody tr th {\n",
       "        vertical-align: top;\n",
       "    }\n",
       "\n",
       "    .dataframe thead th {\n",
       "        text-align: right;\n",
       "    }\n",
       "</style>\n",
       "<table border=\"1\" class=\"dataframe\">\n",
       "  <thead>\n",
       "    <tr style=\"text-align: right;\">\n",
       "      <th></th>\n",
       "      <th>ImageId</th>\n",
       "    </tr>\n",
       "  </thead>\n",
       "  <tbody>\n",
       "    <tr>\n",
       "      <td>0</td>\n",
       "      <td>1106.jpg</td>\n",
       "    </tr>\n",
       "    <tr>\n",
       "      <td>1</td>\n",
       "      <td>2236.jpg</td>\n",
       "    </tr>\n",
       "    <tr>\n",
       "      <td>2</td>\n",
       "      <td>1131.jpg</td>\n",
       "    </tr>\n",
       "    <tr>\n",
       "      <td>3</td>\n",
       "      <td>2221.jpg</td>\n",
       "    </tr>\n",
       "    <tr>\n",
       "      <td>4</td>\n",
       "      <td>2011.jpg</td>\n",
       "    </tr>\n",
       "    <tr>\n",
       "      <td>...</td>\n",
       "      <td>...</td>\n",
       "    </tr>\n",
       "    <tr>\n",
       "      <td>118</td>\n",
       "      <td>1124.jpg</td>\n",
       "    </tr>\n",
       "    <tr>\n",
       "      <td>119</td>\n",
       "      <td>2014.jpg</td>\n",
       "    </tr>\n",
       "    <tr>\n",
       "      <td>120</td>\n",
       "      <td>2235.jpg</td>\n",
       "    </tr>\n",
       "    <tr>\n",
       "      <td>121</td>\n",
       "      <td>1126.jpg</td>\n",
       "    </tr>\n",
       "    <tr>\n",
       "      <td>122</td>\n",
       "      <td>2021.jpg</td>\n",
       "    </tr>\n",
       "  </tbody>\n",
       "</table>\n",
       "<p>123 rows × 1 columns</p>\n",
       "</div>"
      ],
      "text/plain": [
       "      ImageId\n",
       "0    1106.jpg\n",
       "1    2236.jpg\n",
       "2    1131.jpg\n",
       "3    2221.jpg\n",
       "4    2011.jpg\n",
       "..        ...\n",
       "118  1124.jpg\n",
       "119  2014.jpg\n",
       "120  2235.jpg\n",
       "121  1126.jpg\n",
       "122  2021.jpg\n",
       "\n",
       "[123 rows x 1 columns]"
      ]
     },
     "execution_count": 59,
     "metadata": {},
     "output_type": "execute_result"
    }
   ],
   "source": [
    "X_test"
   ]
  },
  {
   "cell_type": "code",
   "execution_count": 60,
   "metadata": {},
   "outputs": [
    {
     "data": {
      "text/plain": [
       "'1106.jpg'"
      ]
     },
     "execution_count": 60,
     "metadata": {},
     "output_type": "execute_result"
    }
   ],
   "source": [
    "X_test[\"ImageId\"].loc[0]"
   ]
  },
  {
   "cell_type": "code",
   "execution_count": 61,
   "metadata": {},
   "outputs": [],
   "source": [
    "X_test=np.array(X_test)"
   ]
  },
  {
   "cell_type": "code",
   "execution_count": 62,
   "metadata": {},
   "outputs": [
    {
     "data": {
      "text/plain": [
       "array([['1106.jpg'],\n",
       "       ['2236.jpg'],\n",
       "       ['1131.jpg'],\n",
       "       ['2221.jpg'],\n",
       "       ['2011.jpg'],\n",
       "       ['2030.jpg'],\n",
       "       ['2035.jpg'],\n",
       "       ['1110.jpg'],\n",
       "       ['1104.jpg'],\n",
       "       ['2217.jpg'],\n",
       "       ['1111.jpg'],\n",
       "       ['1100.jpg'],\n",
       "       ['1112.jpg'],\n",
       "       ['1138.jpg'],\n",
       "       ['2238.jpg'],\n",
       "       ['2009.jpg'],\n",
       "       ['2225.jpg'],\n",
       "       ['2240.jpg'],\n",
       "       ['2020.jpg'],\n",
       "       ['2209.jpg'],\n",
       "       ['2029.jpg'],\n",
       "       ['1114.jpg'],\n",
       "       ['2201.jpg'],\n",
       "       ['1118.jpg'],\n",
       "       ['2025.jpg'],\n",
       "       ['2202.jpg'],\n",
       "       ['1117.jpg'],\n",
       "       ['1119.jpg'],\n",
       "       ['2000.jpg'],\n",
       "       ['2007.jpg'],\n",
       "       ['2039.jpg'],\n",
       "       ['2017.jpg'],\n",
       "       ['2215.jpg'],\n",
       "       ['1120.jpg'],\n",
       "       ['2006.jpg'],\n",
       "       ['1116.jpg'],\n",
       "       ['1128.jpg'],\n",
       "       ['1125.jpg'],\n",
       "       ['2203.jpg'],\n",
       "       ['1133.jpg'],\n",
       "       ['1137.jpg'],\n",
       "       ['2220.jpg'],\n",
       "       ['2012.jpg'],\n",
       "       ['2224.jpg'],\n",
       "       ['2206.jpg'],\n",
       "       ['1122.jpg'],\n",
       "       ['2223.jpg'],\n",
       "       ['1102.jpg'],\n",
       "       ['2234.jpg'],\n",
       "       ['2216.jpg'],\n",
       "       ['2016.jpg'],\n",
       "       ['2227.jpg'],\n",
       "       ['2013.jpg'],\n",
       "       ['1113.jpg'],\n",
       "       ['2204.jpg'],\n",
       "       ['1101.jpg'],\n",
       "       ['2208.jpg'],\n",
       "       ['2024.jpg'],\n",
       "       ['2031.jpg'],\n",
       "       ['2222.jpg'],\n",
       "       ['2211.jpg'],\n",
       "       ['2033.jpg'],\n",
       "       ['2213.jpg'],\n",
       "       ['2231.jpg'],\n",
       "       ['2001.jpg'],\n",
       "       ['2040.jpg'],\n",
       "       ['1127.jpg'],\n",
       "       ['2023.jpg'],\n",
       "       ['2015.jpg'],\n",
       "       ['1121.jpg'],\n",
       "       ['2232.jpg'],\n",
       "       ['1139.jpg'],\n",
       "       ['1103.jpg'],\n",
       "       ['2018.jpg'],\n",
       "       ['2233.jpg'],\n",
       "       ['2212.jpg'],\n",
       "       ['2210.jpg'],\n",
       "       ['2228.jpg'],\n",
       "       ['2026.jpg'],\n",
       "       ['1132.jpg'],\n",
       "       ['2003.jpg'],\n",
       "       ['1129.jpg'],\n",
       "       ['2214.jpg'],\n",
       "       ['1123.jpg'],\n",
       "       ['2004.jpg'],\n",
       "       ['1136.jpg'],\n",
       "       ['1140.jpg'],\n",
       "       ['2226.jpg'],\n",
       "       ['2230.jpg'],\n",
       "       ['1135.jpg'],\n",
       "       ['1105.jpg'],\n",
       "       ['2237.jpg'],\n",
       "       ['1109.jpg'],\n",
       "       ['2022.jpg'],\n",
       "       ['2005.jpg'],\n",
       "       ['2218.jpg'],\n",
       "       ['2036.jpg'],\n",
       "       ['1115.jpg'],\n",
       "       ['2032.jpg'],\n",
       "       ['2200.jpg'],\n",
       "       ['1134.jpg'],\n",
       "       ['1130.jpg'],\n",
       "       ['1107.jpg'],\n",
       "       ['2034.jpg'],\n",
       "       ['2205.jpg'],\n",
       "       ['2008.jpg'],\n",
       "       ['2027.jpg'],\n",
       "       ['2028.jpg'],\n",
       "       ['2239.jpg'],\n",
       "       ['1108.jpg'],\n",
       "       ['2010.jpg'],\n",
       "       ['2229.jpg'],\n",
       "       ['2219.jpg'],\n",
       "       ['2019.jpg'],\n",
       "       ['2207.jpg'],\n",
       "       ['2002.jpg'],\n",
       "       ['2037.jpg'],\n",
       "       ['2038.jpg'],\n",
       "       ['1124.jpg'],\n",
       "       ['2014.jpg'],\n",
       "       ['2235.jpg'],\n",
       "       ['1126.jpg'],\n",
       "       ['2021.jpg']], dtype=object)"
      ]
     },
     "execution_count": 62,
     "metadata": {},
     "output_type": "execute_result"
    }
   ],
   "source": [
    "X_test"
   ]
  },
  {
   "cell_type": "code",
   "execution_count": 90,
   "metadata": {},
   "outputs": [],
   "source": [
    "pokemon=[]"
   ]
  },
  {
   "cell_type": "code",
   "execution_count": 66,
   "metadata": {},
   "outputs": [],
   "source": [
    "imgg=image.load_img(\"Test Images/1100.jpg\", target_size=(224,224,3))"
   ]
  },
  {
   "cell_type": "code",
   "execution_count": 67,
   "metadata": {},
   "outputs": [
    {
     "data": {
      "image/png": "[encoded data removed]",
      "text/plain": [
       "<PIL.Image.Image image mode=RGB size=224x224 at 0x27C009029E8>"
      ]
     },
     "execution_count": 67,
     "metadata": {},
     "output_type": "execute_result"
    }
   ],
   "source": [
    "imgg"
   ]
  },
  {
   "cell_type": "code",
   "execution_count": 69,
   "metadata": {},
   "outputs": [],
   "source": [
    "imgg = image.img_to_array(imgg)\n",
    "imgg = np.expand_dims(imgg, axis=0)"
   ]
  },
  {
   "cell_type": "code",
   "execution_count": 74,
   "metadata": {},
   "outputs": [
    {
     "data": {
      "text/plain": [
       "array([[1., 0., 0.]], dtype=float32)"
      ]
     },
     "execution_count": 74,
     "metadata": {},
     "output_type": "execute_result"
    }
   ],
   "source": [
    "imgg"
   ]
  },
  {
   "cell_type": "code",
   "execution_count": 75,
   "metadata": {},
   "outputs": [
    {
     "data": {
      "text/plain": [
       "{'Bulbasaur': 0, 'Charmander': 1, 'Pikachu': 2}"
      ]
     },
     "execution_count": 75,
     "metadata": {},
     "output_type": "execute_result"
    }
   ],
   "source": [
    "train_generator.class_indices"
   ]
  },
  {
   "cell_type": "code",
   "execution_count": 85,
   "metadata": {},
   "outputs": [],
   "source": [
    "X_test=X_test.reshape((-1,))"
   ]
  },
  {
   "cell_type": "code",
   "execution_count": 86,
   "metadata": {},
   "outputs": [
    {
     "data": {
      "text/plain": [
       "array(['1106.jpg', '2236.jpg', '1131.jpg', '2221.jpg', '2011.jpg',\n",
       "       '2030.jpg', '2035.jpg', '1110.jpg', '1104.jpg', '2217.jpg',\n",
       "       '1111.jpg', '1100.jpg', '1112.jpg', '1138.jpg', '2238.jpg',\n",
       "       '2009.jpg', '2225.jpg', '2240.jpg', '2020.jpg', '2209.jpg',\n",
       "       '2029.jpg', '1114.jpg', '2201.jpg', '1118.jpg', '2025.jpg',\n",
       "       '2202.jpg', '1117.jpg', '1119.jpg', '2000.jpg', '2007.jpg',\n",
       "       '2039.jpg', '2017.jpg', '2215.jpg', '1120.jpg', '2006.jpg',\n",
       "       '1116.jpg', '1128.jpg', '1125.jpg', '2203.jpg', '1133.jpg',\n",
       "       '1137.jpg', '2220.jpg', '2012.jpg', '2224.jpg', '2206.jpg',\n",
       "       '1122.jpg', '2223.jpg', '1102.jpg', '2234.jpg', '2216.jpg',\n",
       "       '2016.jpg', '2227.jpg', '2013.jpg', '1113.jpg', '2204.jpg',\n",
       "       '1101.jpg', '2208.jpg', '2024.jpg', '2031.jpg', '2222.jpg',\n",
       "       '2211.jpg', '2033.jpg', '2213.jpg', '2231.jpg', '2001.jpg',\n",
       "       '2040.jpg', '1127.jpg', '2023.jpg', '2015.jpg', '1121.jpg',\n",
       "       '2232.jpg', '1139.jpg', '1103.jpg', '2018.jpg', '2233.jpg',\n",
       "       '2212.jpg', '2210.jpg', '2228.jpg', '2026.jpg', '1132.jpg',\n",
       "       '2003.jpg', '1129.jpg', '2214.jpg', '1123.jpg', '2004.jpg',\n",
       "       '1136.jpg', '1140.jpg', '2226.jpg', '2230.jpg', '1135.jpg',\n",
       "       '1105.jpg', '2237.jpg', '1109.jpg', '2022.jpg', '2005.jpg',\n",
       "       '2218.jpg', '2036.jpg', '1115.jpg', '2032.jpg', '2200.jpg',\n",
       "       '1134.jpg', '1130.jpg', '1107.jpg', '2034.jpg', '2205.jpg',\n",
       "       '2008.jpg', '2027.jpg', '2028.jpg', '2239.jpg', '1108.jpg',\n",
       "       '2010.jpg', '2229.jpg', '2219.jpg', '2019.jpg', '2207.jpg',\n",
       "       '2002.jpg', '2037.jpg', '2038.jpg', '1124.jpg', '2014.jpg',\n",
       "       '2235.jpg', '1126.jpg', '2021.jpg'], dtype=object)"
      ]
     },
     "execution_count": 86,
     "metadata": {},
     "output_type": "execute_result"
    }
   ],
   "source": [
    "X_test"
   ]
  },
  {
   "cell_type": "code",
   "execution_count": 91,
   "metadata": {},
   "outputs": [
    {
     "name": "stdout",
     "output_type": "stream",
     "text": [
      "1106.jpg\n",
      "2236.jpg\n",
      "1131.jpg\n",
      "2221.jpg\n",
      "2011.jpg\n",
      "2030.jpg\n",
      "2035.jpg\n",
      "1110.jpg\n",
      "1104.jpg\n",
      "2217.jpg\n",
      "1111.jpg\n",
      "1100.jpg\n",
      "1112.jpg\n",
      "1138.jpg\n",
      "2238.jpg\n",
      "2009.jpg\n",
      "2225.jpg\n",
      "2240.jpg\n",
      "2020.jpg\n",
      "2209.jpg\n",
      "2029.jpg\n",
      "1114.jpg\n",
      "2201.jpg\n",
      "1118.jpg\n",
      "2025.jpg\n",
      "2202.jpg\n",
      "1117.jpg\n",
      "1119.jpg\n",
      "2000.jpg\n",
      "2007.jpg\n",
      "2039.jpg\n",
      "2017.jpg\n",
      "2215.jpg\n",
      "1120.jpg\n",
      "2006.jpg\n",
      "1116.jpg\n",
      "1128.jpg\n",
      "1125.jpg\n",
      "2203.jpg\n",
      "1133.jpg\n",
      "1137.jpg\n",
      "2220.jpg\n",
      "2012.jpg\n",
      "2224.jpg\n",
      "2206.jpg\n",
      "1122.jpg\n",
      "2223.jpg\n",
      "1102.jpg\n",
      "2234.jpg\n",
      "2216.jpg\n",
      "2016.jpg\n",
      "2227.jpg\n",
      "2013.jpg\n",
      "1113.jpg\n",
      "2204.jpg\n",
      "1101.jpg\n",
      "2208.jpg\n",
      "2024.jpg\n",
      "2031.jpg\n",
      "2222.jpg\n",
      "2211.jpg\n",
      "2033.jpg\n",
      "2213.jpg\n",
      "2231.jpg\n",
      "2001.jpg\n",
      "2040.jpg\n",
      "1127.jpg\n",
      "2023.jpg\n",
      "2015.jpg\n",
      "1121.jpg\n",
      "2232.jpg\n",
      "1139.jpg\n",
      "1103.jpg\n",
      "2018.jpg\n",
      "2233.jpg\n",
      "2212.jpg\n",
      "2210.jpg\n",
      "2228.jpg\n",
      "2026.jpg\n",
      "1132.jpg\n",
      "2003.jpg\n",
      "1129.jpg\n",
      "2214.jpg\n",
      "1123.jpg\n",
      "2004.jpg\n",
      "1136.jpg\n",
      "1140.jpg\n",
      "2226.jpg\n",
      "2230.jpg\n",
      "1135.jpg\n",
      "1105.jpg\n",
      "2237.jpg\n",
      "1109.jpg\n",
      "2022.jpg\n",
      "2005.jpg\n",
      "2218.jpg\n",
      "2036.jpg\n",
      "1115.jpg\n",
      "2032.jpg\n",
      "2200.jpg\n",
      "1134.jpg\n",
      "1130.jpg\n",
      "1107.jpg\n",
      "2034.jpg\n",
      "2205.jpg\n",
      "2008.jpg\n",
      "2027.jpg\n",
      "2028.jpg\n",
      "2239.jpg\n",
      "1108.jpg\n",
      "2010.jpg\n",
      "2229.jpg\n",
      "2219.jpg\n",
      "2019.jpg\n",
      "2207.jpg\n",
      "2002.jpg\n",
      "2037.jpg\n",
      "2038.jpg\n",
      "1124.jpg\n",
      "2014.jpg\n",
      "2235.jpg\n",
      "1126.jpg\n",
      "2021.jpg\n"
     ]
    }
   ],
   "source": [
    "for f in X_test:\n",
    "    print(f)\n",
    "    imgg=image.load_img(\"Test Images/\"+f, target_size=(224,224,3))\n",
    "    imgg = image.img_to_array(imgg)\n",
    "    imgg = np.expand_dims(imgg, axis=0)\n",
    "    pokemon.append(model.predict(imgg))"
   ]
  },
  {
   "cell_type": "code",
   "execution_count": 80,
   "metadata": {},
   "outputs": [
    {
     "data": {
      "text/plain": [
       "<matplotlib.image.AxesImage at 0x27c0216b940>"
      ]
     },
     "execution_count": 80,
     "metadata": {},
     "output_type": "execute_result"
    },
    {
     "data": {
      "image/png": "[encoded data removed]",
      "text/plain": [
       "<Figure size 432x288 with 1 Axes>"
      ]
     },
     "metadata": {
      "needs_background": "light"
     },
     "output_type": "display_data"
    }
   ],
   "source": [
    "imgg=image.load_img(\"Test Images/\"+\"1106.jpg\", target_size=(224,224,3))\n",
    "plt.imshow(imgg)"
   ]
  },
  {
   "cell_type": "code",
   "execution_count": 92,
   "metadata": {},
   "outputs": [
    {
     "data": {
      "text/plain": [
       "[array([[1., 0., 0.]], dtype=float32),\n",
       " array([[0., 1., 0.]], dtype=float32),\n",
       " array([[1., 0., 0.]], dtype=float32),\n",
       " array([[0., 1., 0.]], dtype=float32),\n",
       " array([[0., 0., 1.]], dtype=float32),\n",
       " array([[0., 0., 1.]], dtype=float32),\n",
       " array([[0., 0., 1.]], dtype=float32),\n",
       " array([[1., 0., 0.]], dtype=float32),\n",
       " array([[1., 0., 0.]], dtype=float32),\n",
       " array([[0., 1., 0.]], dtype=float32),\n",
       " array([[1., 0., 0.]], dtype=float32),\n",
       " array([[1., 0., 0.]], dtype=float32),\n",
       " array([[1., 0., 0.]], dtype=float32),\n",
       " array([[1., 0., 0.]], dtype=float32),\n",
       " array([[0., 1., 0.]], dtype=float32),\n",
       " array([[0.0000000e+00, 1.0000000e+00, 2.2569243e-30]], dtype=float32),\n",
       " array([[0., 1., 0.]], dtype=float32),\n",
       " array([[0., 1., 0.]], dtype=float32),\n",
       " array([[0., 0., 1.]], dtype=float32),\n",
       " array([[0., 1., 0.]], dtype=float32),\n",
       " array([[0., 0., 1.]], dtype=float32),\n",
       " array([[1., 0., 0.]], dtype=float32),\n",
       " array([[0., 1., 0.]], dtype=float32),\n",
       " array([[1., 0., 0.]], dtype=float32),\n",
       " array([[0., 0., 1.]], dtype=float32),\n",
       " array([[0., 1., 0.]], dtype=float32),\n",
       " array([[1., 0., 0.]], dtype=float32),\n",
       " array([[0., 0., 1.]], dtype=float32),\n",
       " array([[0., 0., 1.]], dtype=float32),\n",
       " array([[0., 0., 1.]], dtype=float32),\n",
       " array([[0., 0., 1.]], dtype=float32),\n",
       " array([[0., 0., 1.]], dtype=float32),\n",
       " array([[0., 1., 0.]], dtype=float32),\n",
       " array([[1., 0., 0.]], dtype=float32),\n",
       " array([[0., 0., 1.]], dtype=float32),\n",
       " array([[1., 0., 0.]], dtype=float32),\n",
       " array([[1., 0., 0.]], dtype=float32),\n",
       " array([[1., 0., 0.]], dtype=float32),\n",
       " array([[0., 1., 0.]], dtype=float32),\n",
       " array([[1., 0., 0.]], dtype=float32),\n",
       " array([[1., 0., 0.]], dtype=float32),\n",
       " array([[0., 1., 0.]], dtype=float32),\n",
       " array([[0., 0., 1.]], dtype=float32),\n",
       " array([[0., 1., 0.]], dtype=float32),\n",
       " array([[0., 1., 0.]], dtype=float32),\n",
       " array([[1., 0., 0.]], dtype=float32),\n",
       " array([[0., 1., 0.]], dtype=float32),\n",
       " array([[1., 0., 0.]], dtype=float32),\n",
       " array([[0., 1., 0.]], dtype=float32),\n",
       " array([[0., 1., 0.]], dtype=float32),\n",
       " array([[0., 0., 1.]], dtype=float32),\n",
       " array([[0., 1., 0.]], dtype=float32),\n",
       " array([[0., 0., 1.]], dtype=float32),\n",
       " array([[1., 0., 0.]], dtype=float32),\n",
       " array([[0., 1., 0.]], dtype=float32),\n",
       " array([[1., 0., 0.]], dtype=float32),\n",
       " array([[0., 1., 0.]], dtype=float32),\n",
       " array([[0., 0., 1.]], dtype=float32),\n",
       " array([[0., 0., 1.]], dtype=float32),\n",
       " array([[0., 1., 0.]], dtype=float32),\n",
       " array([[0., 1., 0.]], dtype=float32),\n",
       " array([[0., 0., 1.]], dtype=float32),\n",
       " array([[0., 1., 0.]], dtype=float32),\n",
       " array([[6.917499e-17, 4.888370e-11, 1.000000e+00]], dtype=float32),\n",
       " array([[0., 1., 0.]], dtype=float32),\n",
       " array([[0., 0., 1.]], dtype=float32),\n",
       " array([[1., 0., 0.]], dtype=float32),\n",
       " array([[0., 0., 1.]], dtype=float32),\n",
       " array([[0., 0., 1.]], dtype=float32),\n",
       " array([[1., 0., 0.]], dtype=float32),\n",
       " array([[0., 1., 0.]], dtype=float32),\n",
       " array([[0., 0., 1.]], dtype=float32),\n",
       " array([[1., 0., 0.]], dtype=float32),\n",
       " array([[0., 0., 1.]], dtype=float32),\n",
       " array([[0., 1., 0.]], dtype=float32),\n",
       " array([[0., 1., 0.]], dtype=float32),\n",
       " array([[0., 1., 0.]], dtype=float32),\n",
       " array([[0., 1., 0.]], dtype=float32),\n",
       " array([[0., 0., 1.]], dtype=float32),\n",
       " array([[1., 0., 0.]], dtype=float32),\n",
       " array([[0., 0., 1.]], dtype=float32),\n",
       " array([[1., 0., 0.]], dtype=float32),\n",
       " array([[0., 1., 0.]], dtype=float32),\n",
       " array([[1., 0., 0.]], dtype=float32),\n",
       " array([[0., 0., 1.]], dtype=float32),\n",
       " array([[1., 0., 0.]], dtype=float32),\n",
       " array([[1., 0., 0.]], dtype=float32),\n",
       " array([[0., 1., 0.]], dtype=float32),\n",
       " array([[0., 1., 0.]], dtype=float32),\n",
       " array([[1., 0., 0.]], dtype=float32),\n",
       " array([[1., 0., 0.]], dtype=float32),\n",
       " array([[0., 1., 0.]], dtype=float32),\n",
       " array([[1., 0., 0.]], dtype=float32),\n",
       " array([[0., 1., 0.]], dtype=float32),\n",
       " array([[0., 0., 1.]], dtype=float32),\n",
       " array([[0., 1., 0.]], dtype=float32),\n",
       " array([[0., 0., 1.]], dtype=float32),\n",
       " array([[1., 0., 0.]], dtype=float32),\n",
       " array([[0., 0., 1.]], dtype=float32),\n",
       " array([[0., 1., 0.]], dtype=float32),\n",
       " array([[1., 0., 0.]], dtype=float32),\n",
       " array([[1., 0., 0.]], dtype=float32),\n",
       " array([[1., 0., 0.]], dtype=float32),\n",
       " array([[0., 0., 1.]], dtype=float32),\n",
       " array([[0., 1., 0.]], dtype=float32),\n",
       " array([[0., 0., 1.]], dtype=float32),\n",
       " array([[0., 0., 1.]], dtype=float32),\n",
       " array([[0., 0., 1.]], dtype=float32),\n",
       " array([[0., 1., 0.]], dtype=float32),\n",
       " array([[1., 0., 0.]], dtype=float32),\n",
       " array([[0., 0., 1.]], dtype=float32),\n",
       " array([[0., 1., 0.]], dtype=float32),\n",
       " array([[0., 1., 0.]], dtype=float32),\n",
       " array([[0., 0., 1.]], dtype=float32),\n",
       " array([[0., 1., 0.]], dtype=float32),\n",
       " array([[0., 0., 1.]], dtype=float32),\n",
       " array([[0., 0., 1.]], dtype=float32),\n",
       " array([[0., 0., 1.]], dtype=float32),\n",
       " array([[1., 0., 0.]], dtype=float32),\n",
       " array([[0., 0., 1.]], dtype=float32),\n",
       " array([[0., 1., 0.]], dtype=float32),\n",
       " array([[1., 0., 0.]], dtype=float32),\n",
       " array([[0., 0., 1.]], dtype=float32)]"
      ]
     },
     "execution_count": 92,
     "metadata": {},
     "output_type": "execute_result"
    }
   ],
   "source": [
    "pokemon"
   ]
  },
  {
   "cell_type": "code",
   "execution_count": 94,
   "metadata": {},
   "outputs": [
    {
     "data": {
      "text/plain": [
       "{'Bulbasaur': 0, 'Charmander': 1, 'Pikachu': 2}"
      ]
     },
     "execution_count": 94,
     "metadata": {},
     "output_type": "execute_result"
    }
   ],
   "source": [
    "train_generator.class_indices"
   ]
  },
  {
   "cell_type": "code",
   "execution_count": 136,
   "metadata": {},
   "outputs": [],
   "source": [
    "d={0:\"Bulbasaur\",1:\"Charmander\",2:\"Pikachu\"}"
   ]
  },
  {
   "cell_type": "code",
   "execution_count": 101,
   "metadata": {},
   "outputs": [],
   "source": [
    "pokemon=np.array(pokemon)"
   ]
  },
  {
   "cell_type": "code",
   "execution_count": 106,
   "metadata": {},
   "outputs": [],
   "source": [
    "pokemon=pokemon.reshape(123,3)"
   ]
  },
  {
   "cell_type": "code",
   "execution_count": 103,
   "metadata": {},
   "outputs": [
    {
     "data": {
      "text/plain": [
       "array([[[1.0000000e+00, 0.0000000e+00, 0.0000000e+00]],\n",
       "\n",
       "       [[0.0000000e+00, 1.0000000e+00, 0.0000000e+00]],\n",
       "\n",
       "       [[1.0000000e+00, 0.0000000e+00, 0.0000000e+00]],\n",
       "\n",
       "       [[0.0000000e+00, 1.0000000e+00, 0.0000000e+00]],\n",
       "\n",
       "       [[0.0000000e+00, 0.0000000e+00, 1.0000000e+00]],\n",
       "\n",
       "       [[0.0000000e+00, 0.0000000e+00, 1.0000000e+00]],\n",
       "\n",
       "       [[0.0000000e+00, 0.0000000e+00, 1.0000000e+00]],\n",
       "\n",
       "       [[1.0000000e+00, 0.0000000e+00, 0.0000000e+00]],\n",
       "\n",
       "       [[1.0000000e+00, 0.0000000e+00, 0.0000000e+00]],\n",
       "\n",
       "       [[0.0000000e+00, 1.0000000e+00, 0.0000000e+00]],\n",
       "\n",
       "       [[1.0000000e+00, 0.0000000e+00, 0.0000000e+00]],\n",
       "\n",
       "       [[1.0000000e+00, 0.0000000e+00, 0.0000000e+00]],\n",
       "\n",
       "       [[1.0000000e+00, 0.0000000e+00, 0.0000000e+00]],\n",
       "\n",
       "       [[1.0000000e+00, 0.0000000e+00, 0.0000000e+00]],\n",
       "\n",
       "       [[0.0000000e+00, 1.0000000e+00, 0.0000000e+00]],\n",
       "\n",
       "       [[0.0000000e+00, 1.0000000e+00, 2.2569243e-30]],\n",
       "\n",
       "       [[0.0000000e+00, 1.0000000e+00, 0.0000000e+00]],\n",
       "\n",
       "       [[0.0000000e+00, 1.0000000e+00, 0.0000000e+00]],\n",
       "\n",
       "       [[0.0000000e+00, 0.0000000e+00, 1.0000000e+00]],\n",
       "\n",
       "       [[0.0000000e+00, 1.0000000e+00, 0.0000000e+00]],\n",
       "\n",
       "       [[0.0000000e+00, 0.0000000e+00, 1.0000000e+00]],\n",
       "\n",
       "       [[1.0000000e+00, 0.0000000e+00, 0.0000000e+00]],\n",
       "\n",
       "       [[0.0000000e+00, 1.0000000e+00, 0.0000000e+00]],\n",
       "\n",
       "       [[1.0000000e+00, 0.0000000e+00, 0.0000000e+00]],\n",
       "\n",
       "       [[0.0000000e+00, 0.0000000e+00, 1.0000000e+00]],\n",
       "\n",
       "       [[0.0000000e+00, 1.0000000e+00, 0.0000000e+00]],\n",
       "\n",
       "       [[1.0000000e+00, 0.0000000e+00, 0.0000000e+00]],\n",
       "\n",
       "       [[0.0000000e+00, 0.0000000e+00, 1.0000000e+00]],\n",
       "\n",
       "       [[0.0000000e+00, 0.0000000e+00, 1.0000000e+00]],\n",
       "\n",
       "       [[0.0000000e+00, 0.0000000e+00, 1.0000000e+00]],\n",
       "\n",
       "       [[0.0000000e+00, 0.0000000e+00, 1.0000000e+00]],\n",
       "\n",
       "       [[0.0000000e+00, 0.0000000e+00, 1.0000000e+00]],\n",
       "\n",
       "       [[0.0000000e+00, 1.0000000e+00, 0.0000000e+00]],\n",
       "\n",
       "       [[1.0000000e+00, 0.0000000e+00, 0.0000000e+00]],\n",
       "\n",
       "       [[0.0000000e+00, 0.0000000e+00, 1.0000000e+00]],\n",
       "\n",
       "       [[1.0000000e+00, 0.0000000e+00, 0.0000000e+00]],\n",
       "\n",
       "       [[1.0000000e+00, 0.0000000e+00, 0.0000000e+00]],\n",
       "\n",
       "       [[1.0000000e+00, 0.0000000e+00, 0.0000000e+00]],\n",
       "\n",
       "       [[0.0000000e+00, 1.0000000e+00, 0.0000000e+00]],\n",
       "\n",
       "       [[1.0000000e+00, 0.0000000e+00, 0.0000000e+00]],\n",
       "\n",
       "       [[1.0000000e+00, 0.0000000e+00, 0.0000000e+00]],\n",
       "\n",
       "       [[0.0000000e+00, 1.0000000e+00, 0.0000000e+00]],\n",
       "\n",
       "       [[0.0000000e+00, 0.0000000e+00, 1.0000000e+00]],\n",
       "\n",
       "       [[0.0000000e+00, 1.0000000e+00, 0.0000000e+00]],\n",
       "\n",
       "       [[0.0000000e+00, 1.0000000e+00, 0.0000000e+00]],\n",
       "\n",
       "       [[1.0000000e+00, 0.0000000e+00, 0.0000000e+00]],\n",
       "\n",
       "       [[0.0000000e+00, 1.0000000e+00, 0.0000000e+00]],\n",
       "\n",
       "       [[1.0000000e+00, 0.0000000e+00, 0.0000000e+00]],\n",
       "\n",
       "       [[0.0000000e+00, 1.0000000e+00, 0.0000000e+00]],\n",
       "\n",
       "       [[0.0000000e+00, 1.0000000e+00, 0.0000000e+00]],\n",
       "\n",
       "       [[0.0000000e+00, 0.0000000e+00, 1.0000000e+00]],\n",
       "\n",
       "       [[0.0000000e+00, 1.0000000e+00, 0.0000000e+00]],\n",
       "\n",
       "       [[0.0000000e+00, 0.0000000e+00, 1.0000000e+00]],\n",
       "\n",
       "       [[1.0000000e+00, 0.0000000e+00, 0.0000000e+00]],\n",
       "\n",
       "       [[0.0000000e+00, 1.0000000e+00, 0.0000000e+00]],\n",
       "\n",
       "       [[1.0000000e+00, 0.0000000e+00, 0.0000000e+00]],\n",
       "\n",
       "       [[0.0000000e+00, 1.0000000e+00, 0.0000000e+00]],\n",
       "\n",
       "       [[0.0000000e+00, 0.0000000e+00, 1.0000000e+00]],\n",
       "\n",
       "       [[0.0000000e+00, 0.0000000e+00, 1.0000000e+00]],\n",
       "\n",
       "       [[0.0000000e+00, 1.0000000e+00, 0.0000000e+00]],\n",
       "\n",
       "       [[0.0000000e+00, 1.0000000e+00, 0.0000000e+00]],\n",
       "\n",
       "       [[0.0000000e+00, 0.0000000e+00, 1.0000000e+00]],\n",
       "\n",
       "       [[0.0000000e+00, 1.0000000e+00, 0.0000000e+00]],\n",
       "\n",
       "       [[6.9174990e-17, 4.8883699e-11, 1.0000000e+00]],\n",
       "\n",
       "       [[0.0000000e+00, 1.0000000e+00, 0.0000000e+00]],\n",
       "\n",
       "       [[0.0000000e+00, 0.0000000e+00, 1.0000000e+00]],\n",
       "\n",
       "       [[1.0000000e+00, 0.0000000e+00, 0.0000000e+00]],\n",
       "\n",
       "       [[0.0000000e+00, 0.0000000e+00, 1.0000000e+00]],\n",
       "\n",
       "       [[0.0000000e+00, 0.0000000e+00, 1.0000000e+00]],\n",
       "\n",
       "       [[1.0000000e+00, 0.0000000e+00, 0.0000000e+00]],\n",
       "\n",
       "       [[0.0000000e+00, 1.0000000e+00, 0.0000000e+00]],\n",
       "\n",
       "       [[0.0000000e+00, 0.0000000e+00, 1.0000000e+00]],\n",
       "\n",
       "       [[1.0000000e+00, 0.0000000e+00, 0.0000000e+00]],\n",
       "\n",
       "       [[0.0000000e+00, 0.0000000e+00, 1.0000000e+00]],\n",
       "\n",
       "       [[0.0000000e+00, 1.0000000e+00, 0.0000000e+00]],\n",
       "\n",
       "       [[0.0000000e+00, 1.0000000e+00, 0.0000000e+00]],\n",
       "\n",
       "       [[0.0000000e+00, 1.0000000e+00, 0.0000000e+00]],\n",
       "\n",
       "       [[0.0000000e+00, 1.0000000e+00, 0.0000000e+00]],\n",
       "\n",
       "       [[0.0000000e+00, 0.0000000e+00, 1.0000000e+00]],\n",
       "\n",
       "       [[1.0000000e+00, 0.0000000e+00, 0.0000000e+00]],\n",
       "\n",
       "       [[0.0000000e+00, 0.0000000e+00, 1.0000000e+00]],\n",
       "\n",
       "       [[1.0000000e+00, 0.0000000e+00, 0.0000000e+00]],\n",
       "\n",
       "       [[0.0000000e+00, 1.0000000e+00, 0.0000000e+00]],\n",
       "\n",
       "       [[1.0000000e+00, 0.0000000e+00, 0.0000000e+00]],\n",
       "\n",
       "       [[0.0000000e+00, 0.0000000e+00, 1.0000000e+00]],\n",
       "\n",
       "       [[1.0000000e+00, 0.0000000e+00, 0.0000000e+00]],\n",
       "\n",
       "       [[1.0000000e+00, 0.0000000e+00, 0.0000000e+00]],\n",
       "\n",
       "       [[0.0000000e+00, 1.0000000e+00, 0.0000000e+00]],\n",
       "\n",
       "       [[0.0000000e+00, 1.0000000e+00, 0.0000000e+00]],\n",
       "\n",
       "       [[1.0000000e+00, 0.0000000e+00, 0.0000000e+00]],\n",
       "\n",
       "       [[1.0000000e+00, 0.0000000e+00, 0.0000000e+00]],\n",
       "\n",
       "       [[0.0000000e+00, 1.0000000e+00, 0.0000000e+00]],\n",
       "\n",
       "       [[1.0000000e+00, 0.0000000e+00, 0.0000000e+00]],\n",
       "\n",
       "       [[0.0000000e+00, 1.0000000e+00, 0.0000000e+00]],\n",
       "\n",
       "       [[0.0000000e+00, 0.0000000e+00, 1.0000000e+00]],\n",
       "\n",
       "       [[0.0000000e+00, 1.0000000e+00, 0.0000000e+00]],\n",
       "\n",
       "       [[0.0000000e+00, 0.0000000e+00, 1.0000000e+00]],\n",
       "\n",
       "       [[1.0000000e+00, 0.0000000e+00, 0.0000000e+00]],\n",
       "\n",
       "       [[0.0000000e+00, 0.0000000e+00, 1.0000000e+00]],\n",
       "\n",
       "       [[0.0000000e+00, 1.0000000e+00, 0.0000000e+00]],\n",
       "\n",
       "       [[1.0000000e+00, 0.0000000e+00, 0.0000000e+00]],\n",
       "\n",
       "       [[1.0000000e+00, 0.0000000e+00, 0.0000000e+00]],\n",
       "\n",
       "       [[1.0000000e+00, 0.0000000e+00, 0.0000000e+00]],\n",
       "\n",
       "       [[0.0000000e+00, 0.0000000e+00, 1.0000000e+00]],\n",
       "\n",
       "       [[0.0000000e+00, 1.0000000e+00, 0.0000000e+00]],\n",
       "\n",
       "       [[0.0000000e+00, 0.0000000e+00, 1.0000000e+00]],\n",
       "\n",
       "       [[0.0000000e+00, 0.0000000e+00, 1.0000000e+00]],\n",
       "\n",
       "       [[0.0000000e+00, 0.0000000e+00, 1.0000000e+00]],\n",
       "\n",
       "       [[0.0000000e+00, 1.0000000e+00, 0.0000000e+00]],\n",
       "\n",
       "       [[1.0000000e+00, 0.0000000e+00, 0.0000000e+00]],\n",
       "\n",
       "       [[0.0000000e+00, 0.0000000e+00, 1.0000000e+00]],\n",
       "\n",
       "       [[0.0000000e+00, 1.0000000e+00, 0.0000000e+00]],\n",
       "\n",
       "       [[0.0000000e+00, 1.0000000e+00, 0.0000000e+00]],\n",
       "\n",
       "       [[0.0000000e+00, 0.0000000e+00, 1.0000000e+00]],\n",
       "\n",
       "       [[0.0000000e+00, 1.0000000e+00, 0.0000000e+00]],\n",
       "\n",
       "       [[0.0000000e+00, 0.0000000e+00, 1.0000000e+00]],\n",
       "\n",
       "       [[0.0000000e+00, 0.0000000e+00, 1.0000000e+00]],\n",
       "\n",
       "       [[0.0000000e+00, 0.0000000e+00, 1.0000000e+00]],\n",
       "\n",
       "       [[1.0000000e+00, 0.0000000e+00, 0.0000000e+00]],\n",
       "\n",
       "       [[0.0000000e+00, 0.0000000e+00, 1.0000000e+00]],\n",
       "\n",
       "       [[0.0000000e+00, 1.0000000e+00, 0.0000000e+00]],\n",
       "\n",
       "       [[1.0000000e+00, 0.0000000e+00, 0.0000000e+00]],\n",
       "\n",
       "       [[0.0000000e+00, 0.0000000e+00, 1.0000000e+00]]], dtype=float32)"
      ]
     },
     "execution_count": 103,
     "metadata": {},
     "output_type": "execute_result"
    }
   ],
   "source": [
    "pokemon"
   ]
  },
  {
   "cell_type": "code",
   "execution_count": 130,
   "metadata": {},
   "outputs": [],
   "source": [
    "pk=np.argmax(pokemon,axis=1)"
   ]
  },
  {
   "cell_type": "code",
   "execution_count": 112,
   "metadata": {},
   "outputs": [],
   "source": [
    "pk=pk.reshape((-1,1))"
   ]
  },
  {
   "cell_type": "code",
   "execution_count": 131,
   "metadata": {},
   "outputs": [
    {
     "data": {
      "text/plain": [
       "array([0, 1, 0, 1, 2, 2, 2, 0, 0, 1, 0, 0, 0, 0, 1, 1, 1, 1, 2, 1, 2, 0,\n",
       "       1, 0, 2, 1, 0, 2, 2, 2, 2, 2, 1, 0, 2, 0, 0, 0, 1, 0, 0, 1, 2, 1,\n",
       "       1, 0, 1, 0, 1, 1, 2, 1, 2, 0, 1, 0, 1, 2, 2, 1, 1, 2, 1, 2, 1, 2,\n",
       "       0, 2, 2, 0, 1, 2, 0, 2, 1, 1, 1, 1, 2, 0, 2, 0, 1, 0, 2, 0, 0, 1,\n",
       "       1, 0, 0, 1, 0, 1, 2, 1, 2, 0, 2, 1, 0, 0, 0, 2, 1, 2, 2, 2, 1, 0,\n",
       "       2, 1, 1, 2, 1, 2, 2, 2, 0, 2, 1, 0, 2], dtype=int64)"
      ]
     },
     "execution_count": 131,
     "metadata": {},
     "output_type": "execute_result"
    }
   ],
   "source": [
    "pk"
   ]
  },
  {
   "cell_type": "code",
   "execution_count": 127,
   "metadata": {},
   "outputs": [],
   "source": [
    "pk=np.array(pk)"
   ]
  },
  {
   "cell_type": "code",
   "execution_count": 128,
   "metadata": {},
   "outputs": [
    {
     "data": {
      "text/plain": [
       "array(['0', '1', '0', '1', '2', '2', '2', '0', '0', '1', '0', '0', '0',\n",
       "       '0', '1', '1', '1', '1', '2', '1', '2', '0', '1', '0', '2', '1',\n",
       "       '0', '2', '2', '2', '2', '2', '1', '0', '2', '0', '0', '0', '1',\n",
       "       '0', '0', '1', '2', '1', '1', '0', '1', '0', '1', '1', '2', '1',\n",
       "       '2', '0', '1', '0', '1', '2', '2', '1', '1', '2', '1', '2', '1',\n",
       "       '2', '0', '2', '2', '0', '1', '2', '0', '2', '1', '1', '1', '1',\n",
       "       '2', '0', '2', '0', '1', '0', '2', '0', '0', '1', '1', '0', '0',\n",
       "       '1', '0', '1', '2', '1', '2', '0', '2', '1', '0', '0', '0', '2',\n",
       "       '1', '2', '2', '2', '1', '0', '2', '1', '1', '2', '1', '2', '2',\n",
       "       '2', '0', '2', '1', '0', '2'], dtype='<U21')"
      ]
     },
     "execution_count": 128,
     "metadata": {},
     "output_type": "execute_result"
    }
   ],
   "source": []
  },
  {
   "cell_type": "code",
   "execution_count": 134,
   "metadata": {},
   "outputs": [
    {
     "data": {
      "text/plain": [
       "array([0, 1, 0, 1, 2, 2, 2, 0, 0, 1, 0, 0, 0, 0, 1, 1, 1, 1, 2, 1, 2, 0,\n",
       "       1, 0, 2, 1, 0, 2, 2, 2, 2, 2, 1, 0, 2, 0, 0, 0, 1, 0, 0, 1, 2, 1,\n",
       "       1, 0, 1, 0, 1, 1, 2, 1, 2, 0, 1, 0, 1, 2, 2, 1, 1, 2, 1, 2, 1, 2,\n",
       "       0, 2, 2, 0, 1, 2, 0, 2, 1, 1, 1, 1, 2, 0, 2, 0, 1, 0, 2, 0, 0, 1,\n",
       "       1, 0, 0, 1, 0, 1, 2, 1, 2, 0, 2, 1, 0, 0, 0, 2, 1, 2, 2, 2, 1, 0,\n",
       "       2, 1, 1, 2, 1, 2, 2, 2, 0, 2, 1, 0, 2], dtype=int64)"
      ]
     },
     "execution_count": 134,
     "metadata": {},
     "output_type": "execute_result"
    }
   ],
   "source": [
    "pk"
   ]
  },
  {
   "cell_type": "code",
   "execution_count": 135,
   "metadata": {},
   "outputs": [
    {
     "data": {
      "text/plain": [
       "array([0, 1, 0, 1, 2, 2, 2, 0, 0, 1, 0, 0, 0, 0, 1, 1, 1, 1, 2, 1, 2, 0,\n",
       "       1, 0, 2, 1, 0, 2, 2, 2, 2, 2, 1, 0, 2, 0, 0, 0, 1, 0, 0, 1, 2, 1,\n",
       "       1, 0, 1, 0, 1, 1, 2, 1, 2, 0, 1, 0, 1, 2, 2, 1, 1, 2, 1, 2, 1, 2,\n",
       "       0, 2, 2, 0, 1, 2, 0, 2, 1, 1, 1, 1, 2, 0, 2, 0, 1, 0, 2, 0, 0, 1,\n",
       "       1, 0, 0, 1, 0, 1, 2, 1, 2, 0, 2, 1, 0, 0, 0, 2, 1, 2, 2, 2, 1, 0,\n",
       "       2, 1, 1, 2, 1, 2, 2, 2, 0, 2, 1, 0, 2], dtype=int64)"
      ]
     },
     "execution_count": 135,
     "metadata": {},
     "output_type": "execute_result"
    }
   ],
   "source": [
    "pk"
   ]
  },
  {
   "cell_type": "code",
   "execution_count": 137,
   "metadata": {},
   "outputs": [],
   "source": [
    "predpk=[d[x] for x in pk]"
   ]
  },
  {
   "cell_type": "code",
   "execution_count": 147,
   "metadata": {},
   "outputs": [],
   "source": [
    "predpk=np.array(predpk)"
   ]
  },
  {
   "cell_type": "code",
   "execution_count": 148,
   "metadata": {},
   "outputs": [],
   "source": [
    "predpk=predpk.reshape((-1,1))"
   ]
  },
  {
   "cell_type": "code",
   "execution_count": 149,
   "metadata": {},
   "outputs": [
    {
     "data": {
      "text/plain": [
       "array([['Bulbasaur'],\n",
       "       ['Charmander'],\n",
       "       ['Bulbasaur'],\n",
       "       ['Charmander'],\n",
       "       ['Pikachu'],\n",
       "       ['Pikachu'],\n",
       "       ['Pikachu'],\n",
       "       ['Bulbasaur'],\n",
       "       ['Bulbasaur'],\n",
       "       ['Charmander'],\n",
       "       ['Bulbasaur'],\n",
       "       ['Bulbasaur'],\n",
       "       ['Bulbasaur'],\n",
       "       ['Bulbasaur'],\n",
       "       ['Charmander'],\n",
       "       ['Charmander'],\n",
       "       ['Charmander'],\n",
       "       ['Charmander'],\n",
       "       ['Pikachu'],\n",
       "       ['Charmander'],\n",
       "       ['Pikachu'],\n",
       "       ['Bulbasaur'],\n",
       "       ['Charmander'],\n",
       "       ['Bulbasaur'],\n",
       "       ['Pikachu'],\n",
       "       ['Charmander'],\n",
       "       ['Bulbasaur'],\n",
       "       ['Pikachu'],\n",
       "       ['Pikachu'],\n",
       "       ['Pikachu'],\n",
       "       ['Pikachu'],\n",
       "       ['Pikachu'],\n",
       "       ['Charmander'],\n",
       "       ['Bulbasaur'],\n",
       "       ['Pikachu'],\n",
       "       ['Bulbasaur'],\n",
       "       ['Bulbasaur'],\n",
       "       ['Bulbasaur'],\n",
       "       ['Charmander'],\n",
       "       ['Bulbasaur'],\n",
       "       ['Bulbasaur'],\n",
       "       ['Charmander'],\n",
       "       ['Pikachu'],\n",
       "       ['Charmander'],\n",
       "       ['Charmander'],\n",
       "       ['Bulbasaur'],\n",
       "       ['Charmander'],\n",
       "       ['Bulbasaur'],\n",
       "       ['Charmander'],\n",
       "       ['Charmander'],\n",
       "       ['Pikachu'],\n",
       "       ['Charmander'],\n",
       "       ['Pikachu'],\n",
       "       ['Bulbasaur'],\n",
       "       ['Charmander'],\n",
       "       ['Bulbasaur'],\n",
       "       ['Charmander'],\n",
       "       ['Pikachu'],\n",
       "       ['Pikachu'],\n",
       "       ['Charmander'],\n",
       "       ['Charmander'],\n",
       "       ['Pikachu'],\n",
       "       ['Charmander'],\n",
       "       ['Pikachu'],\n",
       "       ['Charmander'],\n",
       "       ['Pikachu'],\n",
       "       ['Bulbasaur'],\n",
       "       ['Pikachu'],\n",
       "       ['Pikachu'],\n",
       "       ['Bulbasaur'],\n",
       "       ['Charmander'],\n",
       "       ['Pikachu'],\n",
       "       ['Bulbasaur'],\n",
       "       ['Pikachu'],\n",
       "       ['Charmander'],\n",
       "       ['Charmander'],\n",
       "       ['Charmander'],\n",
       "       ['Charmander'],\n",
       "       ['Pikachu'],\n",
       "       ['Bulbasaur'],\n",
       "       ['Pikachu'],\n",
       "       ['Bulbasaur'],\n",
       "       ['Charmander'],\n",
       "       ['Bulbasaur'],\n",
       "       ['Pikachu'],\n",
       "       ['Bulbasaur'],\n",
       "       ['Bulbasaur'],\n",
       "       ['Charmander'],\n",
       "       ['Charmander'],\n",
       "       ['Bulbasaur'],\n",
       "       ['Bulbasaur'],\n",
       "       ['Charmander'],\n",
       "       ['Bulbasaur'],\n",
       "       ['Charmander'],\n",
       "       ['Pikachu'],\n",
       "       ['Charmander'],\n",
       "       ['Pikachu'],\n",
       "       ['Bulbasaur'],\n",
       "       ['Pikachu'],\n",
       "       ['Charmander'],\n",
       "       ['Bulbasaur'],\n",
       "       ['Bulbasaur'],\n",
       "       ['Bulbasaur'],\n",
       "       ['Pikachu'],\n",
       "       ['Charmander'],\n",
       "       ['Pikachu'],\n",
       "       ['Pikachu'],\n",
       "       ['Pikachu'],\n",
       "       ['Charmander'],\n",
       "       ['Bulbasaur'],\n",
       "       ['Pikachu'],\n",
       "       ['Charmander'],\n",
       "       ['Charmander'],\n",
       "       ['Pikachu'],\n",
       "       ['Charmander'],\n",
       "       ['Pikachu'],\n",
       "       ['Pikachu'],\n",
       "       ['Pikachu'],\n",
       "       ['Bulbasaur'],\n",
       "       ['Pikachu'],\n",
       "       ['Charmander'],\n",
       "       ['Bulbasaur'],\n",
       "       ['Pikachu']], dtype='<U10')"
      ]
     },
     "execution_count": 149,
     "metadata": {},
     "output_type": "execute_result"
    }
   ],
   "source": [
    "predpk"
   ]
  },
  {
   "cell_type": "code",
   "execution_count": 150,
   "metadata": {},
   "outputs": [],
   "source": [
    "X_test=X_test.reshape((-1,1))"
   ]
  },
  {
   "cell_type": "code",
   "execution_count": 152,
   "metadata": {},
   "outputs": [],
   "source": [
    "pred=np.hstack((X_test,predpk))"
   ]
  },
  {
   "cell_type": "code",
   "execution_count": 153,
   "metadata": {},
   "outputs": [
    {
     "data": {
      "text/plain": [
       "array([['1106.jpg', 'Bulbasaur'],\n",
       "       ['2236.jpg', 'Charmander'],\n",
       "       ['1131.jpg', 'Bulbasaur'],\n",
       "       ['2221.jpg', 'Charmander'],\n",
       "       ['2011.jpg', 'Pikachu'],\n",
       "       ['2030.jpg', 'Pikachu'],\n",
       "       ['2035.jpg', 'Pikachu'],\n",
       "       ['1110.jpg', 'Bulbasaur'],\n",
       "       ['1104.jpg', 'Bulbasaur'],\n",
       "       ['2217.jpg', 'Charmander'],\n",
       "       ['1111.jpg', 'Bulbasaur'],\n",
       "       ['1100.jpg', 'Bulbasaur'],\n",
       "       ['1112.jpg', 'Bulbasaur'],\n",
       "       ['1138.jpg', 'Bulbasaur'],\n",
       "       ['2238.jpg', 'Charmander'],\n",
       "       ['2009.jpg', 'Charmander'],\n",
       "       ['2225.jpg', 'Charmander'],\n",
       "       ['2240.jpg', 'Charmander'],\n",
       "       ['2020.jpg', 'Pikachu'],\n",
       "       ['2209.jpg', 'Charmander'],\n",
       "       ['2029.jpg', 'Pikachu'],\n",
       "       ['1114.jpg', 'Bulbasaur'],\n",
       "       ['2201.jpg', 'Charmander'],\n",
       "       ['1118.jpg', 'Bulbasaur'],\n",
       "       ['2025.jpg', 'Pikachu'],\n",
       "       ['2202.jpg', 'Charmander'],\n",
       "       ['1117.jpg', 'Bulbasaur'],\n",
       "       ['1119.jpg', 'Pikachu'],\n",
       "       ['2000.jpg', 'Pikachu'],\n",
       "       ['2007.jpg', 'Pikachu'],\n",
       "       ['2039.jpg', 'Pikachu'],\n",
       "       ['2017.jpg', 'Pikachu'],\n",
       "       ['2215.jpg', 'Charmander'],\n",
       "       ['1120.jpg', 'Bulbasaur'],\n",
       "       ['2006.jpg', 'Pikachu'],\n",
       "       ['1116.jpg', 'Bulbasaur'],\n",
       "       ['1128.jpg', 'Bulbasaur'],\n",
       "       ['1125.jpg', 'Bulbasaur'],\n",
       "       ['2203.jpg', 'Charmander'],\n",
       "       ['1133.jpg', 'Bulbasaur'],\n",
       "       ['1137.jpg', 'Bulbasaur'],\n",
       "       ['2220.jpg', 'Charmander'],\n",
       "       ['2012.jpg', 'Pikachu'],\n",
       "       ['2224.jpg', 'Charmander'],\n",
       "       ['2206.jpg', 'Charmander'],\n",
       "       ['1122.jpg', 'Bulbasaur'],\n",
       "       ['2223.jpg', 'Charmander'],\n",
       "       ['1102.jpg', 'Bulbasaur'],\n",
       "       ['2234.jpg', 'Charmander'],\n",
       "       ['2216.jpg', 'Charmander'],\n",
       "       ['2016.jpg', 'Pikachu'],\n",
       "       ['2227.jpg', 'Charmander'],\n",
       "       ['2013.jpg', 'Pikachu'],\n",
       "       ['1113.jpg', 'Bulbasaur'],\n",
       "       ['2204.jpg', 'Charmander'],\n",
       "       ['1101.jpg', 'Bulbasaur'],\n",
       "       ['2208.jpg', 'Charmander'],\n",
       "       ['2024.jpg', 'Pikachu'],\n",
       "       ['2031.jpg', 'Pikachu'],\n",
       "       ['2222.jpg', 'Charmander'],\n",
       "       ['2211.jpg', 'Charmander'],\n",
       "       ['2033.jpg', 'Pikachu'],\n",
       "       ['2213.jpg', 'Charmander'],\n",
       "       ['2231.jpg', 'Pikachu'],\n",
       "       ['2001.jpg', 'Charmander'],\n",
       "       ['2040.jpg', 'Pikachu'],\n",
       "       ['1127.jpg', 'Bulbasaur'],\n",
       "       ['2023.jpg', 'Pikachu'],\n",
       "       ['2015.jpg', 'Pikachu'],\n",
       "       ['1121.jpg', 'Bulbasaur'],\n",
       "       ['2232.jpg', 'Charmander'],\n",
       "       ['1139.jpg', 'Pikachu'],\n",
       "       ['1103.jpg', 'Bulbasaur'],\n",
       "       ['2018.jpg', 'Pikachu'],\n",
       "       ['2233.jpg', 'Charmander'],\n",
       "       ['2212.jpg', 'Charmander'],\n",
       "       ['2210.jpg', 'Charmander'],\n",
       "       ['2228.jpg', 'Charmander'],\n",
       "       ['2026.jpg', 'Pikachu'],\n",
       "       ['1132.jpg', 'Bulbasaur'],\n",
       "       ['2003.jpg', 'Pikachu'],\n",
       "       ['1129.jpg', 'Bulbasaur'],\n",
       "       ['2214.jpg', 'Charmander'],\n",
       "       ['1123.jpg', 'Bulbasaur'],\n",
       "       ['2004.jpg', 'Pikachu'],\n",
       "       ['1136.jpg', 'Bulbasaur'],\n",
       "       ['1140.jpg', 'Bulbasaur'],\n",
       "       ['2226.jpg', 'Charmander'],\n",
       "       ['2230.jpg', 'Charmander'],\n",
       "       ['1135.jpg', 'Bulbasaur'],\n",
       "       ['1105.jpg', 'Bulbasaur'],\n",
       "       ['2237.jpg', 'Charmander'],\n",
       "       ['1109.jpg', 'Bulbasaur'],\n",
       "       ['2022.jpg', 'Charmander'],\n",
       "       ['2005.jpg', 'Pikachu'],\n",
       "       ['2218.jpg', 'Charmander'],\n",
       "       ['2036.jpg', 'Pikachu'],\n",
       "       ['1115.jpg', 'Bulbasaur'],\n",
       "       ['2032.jpg', 'Pikachu'],\n",
       "       ['2200.jpg', 'Charmander'],\n",
       "       ['1134.jpg', 'Bulbasaur'],\n",
       "       ['1130.jpg', 'Bulbasaur'],\n",
       "       ['1107.jpg', 'Bulbasaur'],\n",
       "       ['2034.jpg', 'Pikachu'],\n",
       "       ['2205.jpg', 'Charmander'],\n",
       "       ['2008.jpg', 'Pikachu'],\n",
       "       ['2027.jpg', 'Pikachu'],\n",
       "       ['2028.jpg', 'Pikachu'],\n",
       "       ['2239.jpg', 'Charmander'],\n",
       "       ['1108.jpg', 'Bulbasaur'],\n",
       "       ['2010.jpg', 'Pikachu'],\n",
       "       ['2229.jpg', 'Charmander'],\n",
       "       ['2219.jpg', 'Charmander'],\n",
       "       ['2019.jpg', 'Pikachu'],\n",
       "       ['2207.jpg', 'Charmander'],\n",
       "       ['2002.jpg', 'Pikachu'],\n",
       "       ['2037.jpg', 'Pikachu'],\n",
       "       ['2038.jpg', 'Pikachu'],\n",
       "       ['1124.jpg', 'Bulbasaur'],\n",
       "       ['2014.jpg', 'Pikachu'],\n",
       "       ['2235.jpg', 'Charmander'],\n",
       "       ['1126.jpg', 'Bulbasaur'],\n",
       "       ['2021.jpg', 'Pikachu']], dtype=object)"
      ]
     },
     "execution_count": 153,
     "metadata": {},
     "output_type": "execute_result"
    }
   ],
   "source": [
    "pred"
   ]
  },
  {
   "cell_type": "code",
   "execution_count": 154,
   "metadata": {},
   "outputs": [],
   "source": [
    "df=pd.DataFrame(pred,columns=[\"ImageId\",\"NameOfPokemon\"])"
   ]
  },
  {
   "cell_type": "code",
   "execution_count": 155,
   "metadata": {},
   "outputs": [
    {
     "data": {
      "text/html": [
       "<div>\n",
       "<style scoped>\n",
       "    .dataframe tbody tr th:only-of-type {\n",
       "        vertical-align: middle;\n",
       "    }\n",
       "\n",
       "    .dataframe tbody tr th {\n",
       "        vertical-align: top;\n",
       "    }\n",
       "\n",
       "    .dataframe thead th {\n",
       "        text-align: right;\n",
       "    }\n",
       "</style>\n",
       "<table border=\"1\" class=\"dataframe\">\n",
       "  <thead>\n",
       "    <tr style=\"text-align: right;\">\n",
       "      <th></th>\n",
       "      <th>ImageId</th>\n",
       "      <th>NameOfPokemon</th>\n",
       "    </tr>\n",
       "  </thead>\n",
       "  <tbody>\n",
       "    <tr>\n",
       "      <td>0</td>\n",
       "      <td>1106.jpg</td>\n",
       "      <td>Bulbasaur</td>\n",
       "    </tr>\n",
       "    <tr>\n",
       "      <td>1</td>\n",
       "      <td>2236.jpg</td>\n",
       "      <td>Charmander</td>\n",
       "    </tr>\n",
       "    <tr>\n",
       "      <td>2</td>\n",
       "      <td>1131.jpg</td>\n",
       "      <td>Bulbasaur</td>\n",
       "    </tr>\n",
       "    <tr>\n",
       "      <td>3</td>\n",
       "      <td>2221.jpg</td>\n",
       "      <td>Charmander</td>\n",
       "    </tr>\n",
       "    <tr>\n",
       "      <td>4</td>\n",
       "      <td>2011.jpg</td>\n",
       "      <td>Pikachu</td>\n",
       "    </tr>\n",
       "    <tr>\n",
       "      <td>...</td>\n",
       "      <td>...</td>\n",
       "      <td>...</td>\n",
       "    </tr>\n",
       "    <tr>\n",
       "      <td>118</td>\n",
       "      <td>1124.jpg</td>\n",
       "      <td>Bulbasaur</td>\n",
       "    </tr>\n",
       "    <tr>\n",
       "      <td>119</td>\n",
       "      <td>2014.jpg</td>\n",
       "      <td>Pikachu</td>\n",
       "    </tr>\n",
       "    <tr>\n",
       "      <td>120</td>\n",
       "      <td>2235.jpg</td>\n",
       "      <td>Charmander</td>\n",
       "    </tr>\n",
       "    <tr>\n",
       "      <td>121</td>\n",
       "      <td>1126.jpg</td>\n",
       "      <td>Bulbasaur</td>\n",
       "    </tr>\n",
       "    <tr>\n",
       "      <td>122</td>\n",
       "      <td>2021.jpg</td>\n",
       "      <td>Pikachu</td>\n",
       "    </tr>\n",
       "  </tbody>\n",
       "</table>\n",
       "<p>123 rows × 2 columns</p>\n",
       "</div>"
      ],
      "text/plain": [
       "      ImageId NameOfPokemon\n",
       "0    1106.jpg     Bulbasaur\n",
       "1    2236.jpg    Charmander\n",
       "2    1131.jpg     Bulbasaur\n",
       "3    2221.jpg    Charmander\n",
       "4    2011.jpg       Pikachu\n",
       "..        ...           ...\n",
       "118  1124.jpg     Bulbasaur\n",
       "119  2014.jpg       Pikachu\n",
       "120  2235.jpg    Charmander\n",
       "121  1126.jpg     Bulbasaur\n",
       "122  2021.jpg       Pikachu\n",
       "\n",
       "[123 rows x 2 columns]"
      ]
     },
     "execution_count": 155,
     "metadata": {},
     "output_type": "execute_result"
    }
   ],
   "source": [
    "df"
   ]
  },
  {
   "cell_type": "code",
   "execution_count": 156,
   "metadata": {},
   "outputs": [],
   "source": [
    "df.to_csv(\"pred.csv\",index=False)"
   ]
  },
  {
   "cell_type": "code",
   "execution_count": null,
   "metadata": {},
   "outputs": [],
   "source": []
  }
 ],
 "metadata": {
  "kernelspec": {
   "display_name": "Python 3",
   "language": "python",
   "name": "python3"
  },
  "language_info": {
   "codemirror_mode": {
    "name": "ipython",
    "version": 3
   },
   "file_extension": ".py",
   "mimetype": "text/x-python",
   "name": "python",
   "nbconvert_exporter": "python",
   "pygments_lexer": "ipython3",
   "version": "3.7.3"
  }
 },
 "nbformat": 4,
 "nbformat_minor": 2
}
